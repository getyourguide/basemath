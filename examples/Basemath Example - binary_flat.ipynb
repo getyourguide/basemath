{
 "cells": [
  {
   "cell_type": "code",
   "execution_count": 1,
   "id": "f660cc7f-0249-4a15-bb22-ec8e7ce698e9",
   "metadata": {},
   "outputs": [],
   "source": [
    "import basemath as bm\n",
    "import numpy as np"
   ]
  },
  {
   "cell_type": "code",
   "execution_count": 2,
   "id": "90b7cf81-bcf1-4c2b-9621-5d90d1612d51",
   "metadata": {},
   "outputs": [],
   "source": [
    "## Generating input data\n",
    "## The success metric is binary here:\n",
    "## Either a visitors turns into a customer (1) or they don't (0)\n",
    "\n",
    "avg_visitors = 250_000 # average number of visitors per day and variation\n",
    "cr_A = 0.025 # conversion rate of control\n",
    "cr_uplift = 0.00 # relative uplift of treatment <- no uplift => cr_A = cr_B\n",
    "days = 30 # number of simulated days\n",
    "\n",
    "num_visitors = np.abs(np.random.normal(avg_visitors - 1, avg_visitors * 0.1, days).astype(int)) + 1\n",
    "customers_A = np.random.binomial(n=num_visitors, p=cr_A)\n",
    "customers_B = np.random.binomial(n=num_visitors, p=cr_A*(1+cr_uplift))\n",
    "customers_delta = customers_B - customers_A"
   ]
  },
  {
   "cell_type": "code",
   "execution_count": 5,
   "id": "a5d81f1a-5945-44b3-9b94-b9404b13d2aa",
   "metadata": {},
   "outputs": [
    {
     "name": "stdout",
     "output_type": "stream",
     "text": [
      "Visitors by day 1:\n",
      " 269252 out of 5407754 (4.98%)\n",
      "\n",
      "\n",
      "Visitors by day 2:\n",
      " 496460 out of 5407754 (9.18%)\n",
      "\n",
      "\n",
      "Visitors by day 3:\n",
      " 707792 out of 5407754 (13.09%)\n",
      "\n",
      "\n",
      "Visitors by day 4:\n",
      " 1010533 out of 5407754 (18.69%)\n",
      "\n",
      "\n",
      "Visitors by day 5:\n",
      " 1257145 out of 5407754 (23.25%)\n",
      "\n",
      "\n",
      "Visitors by day 6:\n",
      " 1500542 out of 5407754 (27.75%)\n",
      "\n",
      "\n",
      "Visitors by day 7:\n",
      " 1755844 out of 5407754 (32.47%)\n",
      "\n",
      "\n",
      "-1\n",
      "The experiment evaluation was stopped after 7 days.\n",
      "Treatment is NOT significantly better than control.\n"
     ]
    }
   ],
   "source": [
    "## Running Basemath\n",
    "\n",
    "# input parameters\n",
    "mean_A = np.sum(customers_A) / np.sum(num_visitors)\n",
    "mde = 0.01\n",
    "alpha = 0.05\n",
    "beta = 0.2\n",
    "exp_name = \"test_experiment_abc\"\n",
    "\n",
    "# initialise\n",
    "bm_test = bm.BaseMathsTest(mean_A, mde, alpha, beta, seed = exp_name)\n",
    "\n",
    "# day-by-day evaluation\n",
    "experiment_state = 0\n",
    "agg_visitors_seen_before = 0\n",
    "agg_cust_delta_seen_before = 0\n",
    "curr_day = 0\n",
    "\n",
    "for day in range(days):\n",
    "    experiment_state = bm_test.evaluate_experiment(\n",
    "        agg_cust_delta_seen_before,\n",
    "        customers_delta[day],\n",
    "        agg_visitors_seen_before,\n",
    "        num_visitors[day]\n",
    "    )\n",
    "\n",
    "    curr_day = day\n",
    "    agg_visitors_seen_before += num_visitors[day]\n",
    "    agg_cust_delta_seen_before += customers_delta[day]\n",
    "    \n",
    "    print(\"Visitors by day {}:\\n {} out of {} ({}%)\\n\\n\"\n",
    "          .format(\n",
    "              day + 1,\n",
    "              agg_visitors_seen_before,\n",
    "              bm_test.required_samples,\n",
    "              np.round(agg_visitors_seen_before/bm_test.required_samples*100, 2)\n",
    "          )\n",
    "         )\n",
    "\n",
    "    if experiment_state != 0:\n",
    "        break\n",
    "\n",
    "print(experiment_state)\n",
    "        \n",
    "# summary\n",
    "print(f\"The experiment evaluation was stopped after {curr_day + 1} days.\")\n",
    "if experiment_state == 1:\n",
    "    print(\"Treatment is significantly better than control.\")\n",
    "elif experiment_state == -1:\n",
    "    print(\"Treatment is NOT significantly better than control.\")\n",
    "elif experiment_state == 0:\n",
    "    print(\"Experiment stopped without conclusion. Not enough data.\")\n",
    "    print(f\"{np.sum(num_visitors)} data points per day provided, {bm_test.required_samples} required\")"
   ]
  }
 ],
 "metadata": {
  "kernelspec": {
   "display_name": "Python 3 (ipykernel)",
   "language": "python",
   "name": "python3"
  },
  "language_info": {
   "codemirror_mode": {
    "name": "ipython",
    "version": 3
   },
   "file_extension": ".py",
   "mimetype": "text/x-python",
   "name": "python",
   "nbconvert_exporter": "python",
   "pygments_lexer": "ipython3",
   "version": "3.9.13"
  }
 },
 "nbformat": 4,
 "nbformat_minor": 5
}
