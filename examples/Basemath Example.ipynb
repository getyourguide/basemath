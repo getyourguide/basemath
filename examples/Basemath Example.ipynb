{
 "cells": [
  {
   "cell_type": "code",
   "execution_count": 1,
   "id": "f660cc7f-0249-4a15-bb22-ec8e7ce698e9",
   "metadata": {},
   "outputs": [],
   "source": [
    "import basemath as bm\n",
    "import numpy as np"
   ]
  },
  {
   "cell_type": "code",
   "execution_count": 10,
   "id": "90b7cf81-bcf1-4c2b-9621-5d90d1612d51",
   "metadata": {},
   "outputs": [],
   "source": [
    "## Generating input data\n",
    "\n",
    "avg_visitors = 250_000 # average number of visitors per day and variation\n",
    "cr_A = 0.025 # conversion rate of control\n",
    "cr_uplift = 0.01 # relative uplift of treatment\n",
    "days = 60 # number of simulated days\n",
    "\n",
    "num_visitors = np.abs(np.random.normal(avg_visitors - 1, avg_visitors * 0.1, days).astype(int)) + 1\n",
    "customers_A = np.random.binomial(n=num_visitors, p=cr_A)\n",
    "customers_B = np.random.binomial(n=num_visitors, p=cr_A*(1+cr_uplift))\n",
    "customers_delta = customers_B - customers_A"
   ]
  },
  {
   "cell_type": "code",
   "execution_count": 14,
   "id": "a5d81f1a-5945-44b3-9b94-b9404b13d2aa",
   "metadata": {},
   "outputs": [
    {
     "name": "stdout",
     "output_type": "stream",
     "text": [
      "The experiment evaluation was stopped after 60 days.\n",
      "Experiment stopped without conclusion. Not enough data.\n",
      "14981579 data points per day provided, 5426125 required\n"
     ]
    }
   ],
   "source": [
    "## Running Basemath\n",
    "\n",
    "# input parameters\n",
    "mean_A = np.sum(customers_A) / np.sum(num_visitors)\n",
    "mde = 0.01\n",
    "alpha = 0.05\n",
    "beta = 0.2\n",
    "exp_name = \"test_experiment_abc\"\n",
    "\n",
    "# initialise\n",
    "bm_test = bm.BaseMathsTest(mean_A, mde, alpha, beta, seed = exp_name)\n",
    "\n",
    "# day-by-day evaluation\n",
    "experiment_state = 0\n",
    "agg_visitors_seen_before = 0\n",
    "agg_cust_delta_seen_before = 0\n",
    "curr_day = 0\n",
    "\n",
    "for day in range(days):\n",
    "    experiment_state = bm_test.evaluate_experiment(\n",
    "        agg_cust_delta_seen_before,\n",
    "        customers_delta[day],\n",
    "        agg_visitors_seen_before,\n",
    "        num_visitors[day]\n",
    "    )\n",
    "    curr_day = day\n",
    "    if experiment_state != 0:\n",
    "        break\n",
    "\n",
    "# summary\n",
    "print(f\"The experiment evaluation was stopped after {curr_day + 1} days.\")\n",
    "if experiment_state == 1:\n",
    "    print(\"Treatment is significantly better than control.\")\n",
    "elif experiment_state == -1:\n",
    "    print(\"Treatment is NOT significantly better than control.\")\n",
    "elif experiment_state == 0:\n",
    "    print(\"Experiment stopped without conclusion. Not enough data.\")\n",
    "    print(f\"{np.sum(num_visitors)} data points per day provided, {bm_test.required_samples} required\")"
   ]
  },
  {
   "cell_type": "code",
   "execution_count": 37,
   "id": "b73eb8bc-6d92-4ed6-960f-217de6366fac",
   "metadata": {},
   "outputs": [
    {
     "name": "stdout",
     "output_type": "stream",
     "text": [
      "0 112 0 252580\n"
     ]
    }
   ],
   "source": [
    "print(agg_cust_delta_seen_before,\n",
    "        customers_delta[day],\n",
    "        agg_visitors_seen_before,\n",
    "        num_visitors[day])"
   ]
  },
  {
   "cell_type": "code",
   "execution_count": 45,
   "id": "c6913aa9-aaf5-467a-8a2c-213bf3356ece",
   "metadata": {},
   "outputs": [
    {
     "ename": "TypeError",
     "evalue": "evaluate_experiment() takes 4 positional arguments but 5 were given",
     "output_type": "error",
     "traceback": [
      "\u001b[0;31m---------------------------------------------------------------------------\u001b[0m",
      "\u001b[0;31mTypeError\u001b[0m                                 Traceback (most recent call last)",
      "\u001b[0;32m/var/folders/zk/lctv7x9s7wb01vg46hcl8pn80000gp/T/ipykernel_48955/336763479.py\u001b[0m in \u001b[0;36m<module>\u001b[0;34m\u001b[0m\n\u001b[0;32m----> 1\u001b[0;31m \u001b[0mbm_test\u001b[0m\u001b[0;34m.\u001b[0m\u001b[0mevaluate_experiment\u001b[0m\u001b[0;34m(\u001b[0m\u001b[0;36m0\u001b[0m\u001b[0;34m,\u001b[0m \u001b[0;36m100\u001b[0m\u001b[0;34m,\u001b[0m \u001b[0;36m0\u001b[0m\u001b[0;34m,\u001b[0m \u001b[0;36m250000\u001b[0m\u001b[0;34m)\u001b[0m\u001b[0;34m\u001b[0m\u001b[0;34m\u001b[0m\u001b[0m\n\u001b[0m",
      "\u001b[0;31mTypeError\u001b[0m: evaluate_experiment() takes 4 positional arguments but 5 were given"
     ]
    }
   ],
   "source": [
    "bm_test.evaluate_experiment(0, 100, 0, 250000)"
   ]
  },
  {
   "cell_type": "code",
   "execution_count": 46,
   "id": "ca06d4ee-3500-4680-8c53-99cfbaa1b3d3",
   "metadata": {},
   "outputs": [
    {
     "name": "stdout",
     "output_type": "stream",
     "text": [
      "(val_A, val_B, batch_samples)\n"
     ]
    }
   ],
   "source": [
    "import inspect\n",
    "print(inspect.signature(bm_test.evaluate_experiment))"
   ]
  }
 ],
 "metadata": {
  "kernelspec": {
   "display_name": "Python 3 (ipykernel)",
   "language": "python",
   "name": "python3"
  },
  "language_info": {
   "codemirror_mode": {
    "name": "ipython",
    "version": 3
   },
   "file_extension": ".py",
   "mimetype": "text/x-python",
   "name": "python",
   "nbconvert_exporter": "python",
   "pygments_lexer": "ipython3",
   "version": "3.9.13"
  }
 },
 "nbformat": 4,
 "nbformat_minor": 5
}
